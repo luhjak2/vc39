{
 "cells": [
  {
   "cell_type": "code",
   "execution_count": null,
   "id": "6910e4d1-3eba-4775-b7c4-52310c550fa3",
   "metadata": {},
   "outputs": [],
   "source": [
    "name = input(\"who are you?: \")\n",
    "print(\"hello, \" + name + \"!\")\n",
    "favNumber = input(\"what is your favorite number?: \")\n",
    "print(\"your favorite number is \" + favNumber + \". \" + \"only you could have chosen that one.. \")"
   ]
  }
 ],
 "metadata": {
  "kernelspec": {
   "display_name": "Python 3 (ipykernel)",
   "language": "python",
   "name": "python3"
  },
  "language_info": {
   "codemirror_mode": {
    "name": "ipython",
    "version": 3
   },
   "file_extension": ".py",
   "mimetype": "text/x-python",
   "name": "python",
   "nbconvert_exporter": "python",
   "pygments_lexer": "ipython3",
   "version": "3.11.13"
  }
 },
 "nbformat": 4,
 "nbformat_minor": 5
}
