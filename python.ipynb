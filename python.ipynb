{
 "cells": [
  {
   "cell_type": "code",
   "execution_count": 3,
   "id": "592d90b3-9076-459b-89ae-3dd7b1f94a26",
   "metadata": {},
   "outputs": [
    {
     "name": "stdin",
     "output_type": "stream",
     "text": [
      "Hello there, please let me know your name xx\n",
      "How is your day today, you can enter \"good\" or \"bad:  bad\n"
     ]
    },
    {
     "name": "stdout",
     "output_type": "stream",
     "text": [
      "Hi xx I hope your day will getting good soon.\n"
     ]
    }
   ],
   "source": [
    "name=input(\"Hello there, please let me know your name\")\n",
    "status=input(\"How is your day today, you can enter \\\"good\\\" or \\\"bad: \")\n",
    "if status == \"good\":\n",
    "    print(\"Hi\", name, \"it is good to hear you are good today.\")\n",
    "if status == \"bad\":\n",
    "    print(\"Hi\", name, \"I hope your day will getting good soon.\")"
   ]
  },
  {
   "cell_type": "code",
   "execution_count": null,
   "id": "8ebfdefb-d6a9-4589-a188-61b6e790f91c",
   "metadata": {},
   "outputs": [],
   "source": []
  }
 ],
 "metadata": {
  "kernelspec": {
   "display_name": "Python 3 (ipykernel)",
   "language": "python",
   "name": "python3"
  },
  "language_info": {
   "codemirror_mode": {
    "name": "ipython",
    "version": 3
   },
   "file_extension": ".py",
   "mimetype": "text/x-python",
   "name": "python",
   "nbconvert_exporter": "python",
   "pygments_lexer": "ipython3",
   "version": "3.11.13"
  }
 },
 "nbformat": 4,
 "nbformat_minor": 5
}
 },
 "nbformat": 4,
 "nbformat_minor": 5
}
